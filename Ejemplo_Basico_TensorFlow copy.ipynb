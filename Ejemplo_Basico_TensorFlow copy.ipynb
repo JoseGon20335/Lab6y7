{
 "cells": [
  {
   "attachments": {},
   "cell_type": "markdown",
   "metadata": {},
   "source": [
    "# Redes neuronales Basicas\n",
    "Parte 1 - python y numpy\n"
   ]
  },
  {
   "attachments": {},
   "cell_type": "markdown",
   "metadata": {},
   "source": [
    "## Importar las librerías relevantes"
   ]
  },
  {
   "cell_type": "code",
   "execution_count": 1,
   "metadata": {},
   "outputs": [],
   "source": [
    "import numpy as np\n",
    "import plotly.express as px\n",
    "import matplotlib.pyplot as plt\n",
    "import tensorflow as tf"
   ]
  },
  {
   "cell_type": "code",
   "execution_count": 2,
   "metadata": {},
   "outputs": [],
   "source": [
    "# Observaciones a 100,000\n",
    "observaciones = 1000\n",
    "\n",
    "x1 = np.random.uniform(low = -10, high = 10, size = (observaciones,1))\n",
    "x2 = np.random.uniform(-10, 10, (observaciones,1)) # nótese que no se requieren las palabras clave\n",
    "\n",
    "X = np.column_stack((x1,x2))\n",
    "\n"
   ]
  },
  {
   "cell_type": "code",
   "execution_count": 3,
   "metadata": {},
   "outputs": [],
   "source": [
    "ruido = np.random.uniform(-1, 1, (observaciones,1))\n",
    "\n",
    "y = 2 * x1 - 3 * x2 + 5 + ruido"
   ]
  },
  {
   "cell_type": "code",
   "execution_count": 4,
   "metadata": {},
   "outputs": [],
   "source": [
    "np.savez('Datos_TF', entradas = X, targets = y)  # nótese que se puede usar cualquier nombre"
   ]
  },
  {
   "cell_type": "code",
   "execution_count": 5,
   "metadata": {},
   "outputs": [],
   "source": [
    "# Se cargan los datos desde el archivo NPZ.  Por supuesto, esto no era necesario acá\n",
    "datos = np.load('Datos_TF.npz')"
   ]
  },
  {
   "cell_type": "code",
   "execution_count": 6,
   "metadata": {},
   "outputs": [],
   "source": [
    "tamanio_entrada = 2\n",
    "\n",
    "tamanio_salida = 1"
   ]
  },
  {
   "cell_type": "code",
   "execution_count": 7,
   "metadata": {},
   "outputs": [
    {
     "name": "stderr",
     "output_type": "stream",
     "text": [
      "2023-05-05 09:22:15.691991: I tensorflow/core/platform/cpu_feature_guard.cc:193] This TensorFlow binary is optimized with oneAPI Deep Neural Network Library (oneDNN) to use the following CPU instructions in performance-critical operations:  SSE4.1 SSE4.2\n",
      "To enable them in other operations, rebuild TensorFlow with the appropriate compiler flags.\n"
     ]
    }
   ],
   "source": [
    "modelo = tf.keras.Sequential([\n",
    "                           \n",
    "                            tf.keras.layers.Dense(tamanio_salida,\n",
    "                                                 kernel_initializer = tf.random_uniform_initializer(minval = -0.1, maxval = 0.1),\n",
    "                                                 bias_initializer = tf.random_uniform_initializer(minval = -0.1, maxval = 0.1)\n",
    "                                                 )\n",
    "                            ])"
   ]
  },
  {
   "cell_type": "code",
   "execution_count": 8,
   "metadata": {},
   "outputs": [],
   "source": [
    "optimizador_adhoc = tf.keras.optimizers.SGD(learning_rate = 0.02)"
   ]
  },
  {
   "cell_type": "code",
   "execution_count": 9,
   "metadata": {},
   "outputs": [],
   "source": [
    "modelo.compile(optimizer = optimizador_adhoc, loss='mean_squared_error')"
   ]
  },
  {
   "cell_type": "code",
   "execution_count": 12,
   "metadata": {},
   "outputs": [
    {
     "name": "stdout",
     "output_type": "stream",
     "text": [
      "Epoch 1/100\n",
      "32/32 - 0s - loss: 0.3977 - 16ms/epoch - 490us/step\n",
      "Epoch 2/100\n",
      "32/32 - 0s - loss: 0.3732 - 13ms/epoch - 394us/step\n",
      "Epoch 3/100\n",
      "32/32 - 0s - loss: 0.3675 - 10ms/epoch - 327us/step\n",
      "Epoch 4/100\n",
      "32/32 - 0s - loss: 0.4443 - 10ms/epoch - 300us/step\n",
      "Epoch 5/100\n",
      "32/32 - 0s - loss: 0.4192 - 10ms/epoch - 315us/step\n",
      "Epoch 6/100\n",
      "32/32 - 0s - loss: 0.3875 - 10ms/epoch - 309us/step\n",
      "Epoch 7/100\n",
      "32/32 - 0s - loss: 0.4038 - 10ms/epoch - 299us/step\n",
      "Epoch 8/100\n",
      "32/32 - 0s - loss: 0.4134 - 10ms/epoch - 305us/step\n",
      "Epoch 9/100\n",
      "32/32 - 0s - loss: 0.3906 - 10ms/epoch - 301us/step\n",
      "Epoch 10/100\n",
      "32/32 - 0s - loss: 0.3697 - 10ms/epoch - 308us/step\n",
      "Epoch 11/100\n",
      "32/32 - 0s - loss: 0.4036 - 10ms/epoch - 308us/step\n",
      "Epoch 12/100\n",
      "32/32 - 0s - loss: 0.3972 - 9ms/epoch - 294us/step\n",
      "Epoch 13/100\n",
      "32/32 - 0s - loss: 0.3795 - 10ms/epoch - 300us/step\n",
      "Epoch 14/100\n",
      "32/32 - 0s - loss: 0.4110 - 10ms/epoch - 313us/step\n",
      "Epoch 15/100\n",
      "32/32 - 0s - loss: 0.3906 - 10ms/epoch - 301us/step\n",
      "Epoch 16/100\n",
      "32/32 - 0s - loss: 0.3893 - 10ms/epoch - 316us/step\n",
      "Epoch 17/100\n",
      "32/32 - 0s - loss: 0.4066 - 10ms/epoch - 306us/step\n",
      "Epoch 18/100\n",
      "32/32 - 0s - loss: 0.3890 - 10ms/epoch - 309us/step\n",
      "Epoch 19/100\n",
      "32/32 - 0s - loss: 0.3784 - 10ms/epoch - 311us/step\n",
      "Epoch 20/100\n",
      "32/32 - 0s - loss: 0.3869 - 9ms/epoch - 296us/step\n",
      "Epoch 21/100\n",
      "32/32 - 0s - loss: 0.3791 - 10ms/epoch - 302us/step\n",
      "Epoch 22/100\n",
      "32/32 - 0s - loss: 0.3738 - 10ms/epoch - 308us/step\n",
      "Epoch 23/100\n",
      "32/32 - 0s - loss: 0.4395 - 10ms/epoch - 299us/step\n",
      "Epoch 24/100\n",
      "32/32 - 0s - loss: 0.4235 - 10ms/epoch - 325us/step\n",
      "Epoch 25/100\n",
      "32/32 - 0s - loss: 0.3928 - 10ms/epoch - 302us/step\n",
      "Epoch 26/100\n",
      "32/32 - 0s - loss: 0.4016 - 10ms/epoch - 302us/step\n",
      "Epoch 27/100\n",
      "32/32 - 0s - loss: 0.3963 - 10ms/epoch - 306us/step\n",
      "Epoch 28/100\n",
      "32/32 - 0s - loss: 0.3857 - 9ms/epoch - 291us/step\n",
      "Epoch 29/100\n",
      "32/32 - 0s - loss: 0.3745 - 10ms/epoch - 310us/step\n",
      "Epoch 30/100\n",
      "32/32 - 0s - loss: 0.4167 - 10ms/epoch - 312us/step\n",
      "Epoch 31/100\n",
      "32/32 - 0s - loss: 0.4165 - 9ms/epoch - 293us/step\n",
      "Epoch 32/100\n",
      "32/32 - 0s - loss: 0.3878 - 10ms/epoch - 313us/step\n",
      "Epoch 33/100\n",
      "32/32 - 0s - loss: 0.3745 - 9ms/epoch - 291us/step\n",
      "Epoch 34/100\n",
      "32/32 - 0s - loss: 0.3861 - 10ms/epoch - 306us/step\n",
      "Epoch 35/100\n",
      "32/32 - 0s - loss: 0.4058 - 10ms/epoch - 305us/step\n",
      "Epoch 36/100\n",
      "32/32 - 0s - loss: 0.3673 - 9ms/epoch - 292us/step\n",
      "Epoch 37/100\n",
      "32/32 - 0s - loss: 0.4202 - 10ms/epoch - 301us/step\n",
      "Epoch 38/100\n",
      "32/32 - 0s - loss: 0.3836 - 10ms/epoch - 308us/step\n",
      "Epoch 39/100\n",
      "32/32 - 0s - loss: 0.4034 - 10ms/epoch - 299us/step\n",
      "Epoch 40/100\n",
      "32/32 - 0s - loss: 0.3813 - 10ms/epoch - 308us/step\n",
      "Epoch 41/100\n",
      "32/32 - 0s - loss: 0.3748 - 9ms/epoch - 296us/step\n",
      "Epoch 42/100\n",
      "32/32 - 0s - loss: 0.3826 - 10ms/epoch - 304us/step\n",
      "Epoch 43/100\n",
      "32/32 - 0s - loss: 0.3898 - 9ms/epoch - 291us/step\n",
      "Epoch 44/100\n",
      "32/32 - 0s - loss: 0.3886 - 9ms/epoch - 294us/step\n",
      "Epoch 45/100\n",
      "32/32 - 0s - loss: 0.3661 - 10ms/epoch - 302us/step\n",
      "Epoch 46/100\n",
      "32/32 - 0s - loss: 0.3832 - 9ms/epoch - 295us/step\n",
      "Epoch 47/100\n",
      "32/32 - 0s - loss: 0.3949 - 10ms/epoch - 309us/step\n",
      "Epoch 48/100\n",
      "32/32 - 0s - loss: 0.3972 - 10ms/epoch - 308us/step\n",
      "Epoch 49/100\n",
      "32/32 - 0s - loss: 0.3785 - 9ms/epoch - 286us/step\n",
      "Epoch 50/100\n",
      "32/32 - 0s - loss: 0.4053 - 10ms/epoch - 307us/step\n",
      "Epoch 51/100\n",
      "32/32 - 0s - loss: 0.4326 - 10ms/epoch - 301us/step\n",
      "Epoch 52/100\n",
      "32/32 - 0s - loss: 0.3556 - 9ms/epoch - 292us/step\n",
      "Epoch 53/100\n",
      "32/32 - 0s - loss: 0.3992 - 10ms/epoch - 304us/step\n",
      "Epoch 54/100\n",
      "32/32 - 0s - loss: 0.4294 - 9ms/epoch - 291us/step\n",
      "Epoch 55/100\n",
      "32/32 - 0s - loss: 0.3947 - 10ms/epoch - 308us/step\n",
      "Epoch 56/100\n",
      "32/32 - 0s - loss: 0.4328 - 10ms/epoch - 297us/step\n",
      "Epoch 57/100\n",
      "32/32 - 0s - loss: 0.3702 - 10ms/epoch - 301us/step\n",
      "Epoch 58/100\n",
      "32/32 - 0s - loss: 0.4091 - 10ms/epoch - 308us/step\n",
      "Epoch 59/100\n",
      "32/32 - 0s - loss: 0.3888 - 9ms/epoch - 287us/step\n",
      "Epoch 60/100\n",
      "32/32 - 0s - loss: 0.4776 - 10ms/epoch - 305us/step\n",
      "Epoch 61/100\n",
      "32/32 - 0s - loss: 0.3709 - 11ms/epoch - 331us/step\n",
      "Epoch 62/100\n",
      "32/32 - 0s - loss: 0.3780 - 11ms/epoch - 351us/step\n",
      "Epoch 63/100\n",
      "32/32 - 0s - loss: 0.3882 - 10ms/epoch - 318us/step\n",
      "Epoch 64/100\n",
      "32/32 - 0s - loss: 0.3938 - 10ms/epoch - 308us/step\n",
      "Epoch 65/100\n",
      "32/32 - 0s - loss: 0.4240 - 9ms/epoch - 294us/step\n",
      "Epoch 66/100\n",
      "32/32 - 0s - loss: 0.3928 - 10ms/epoch - 308us/step\n",
      "Epoch 67/100\n",
      "32/32 - 0s - loss: 0.4294 - 9ms/epoch - 296us/step\n",
      "Epoch 68/100\n",
      "32/32 - 0s - loss: 0.3993 - 10ms/epoch - 307us/step\n",
      "Epoch 69/100\n",
      "32/32 - 0s - loss: 0.3970 - 10ms/epoch - 308us/step\n",
      "Epoch 70/100\n",
      "32/32 - 0s - loss: 0.3842 - 9ms/epoch - 296us/step\n",
      "Epoch 71/100\n",
      "32/32 - 0s - loss: 0.3702 - 10ms/epoch - 305us/step\n",
      "Epoch 72/100\n",
      "32/32 - 0s - loss: 0.3722 - 11ms/epoch - 340us/step\n",
      "Epoch 73/100\n",
      "32/32 - 0s - loss: 0.3842 - 9ms/epoch - 296us/step\n",
      "Epoch 74/100\n",
      "32/32 - 0s - loss: 0.3884 - 10ms/epoch - 305us/step\n",
      "Epoch 75/100\n",
      "32/32 - 0s - loss: 0.3862 - 10ms/epoch - 298us/step\n",
      "Epoch 76/100\n",
      "32/32 - 0s - loss: 0.3934 - 10ms/epoch - 308us/step\n",
      "Epoch 77/100\n",
      "32/32 - 0s - loss: 0.4331 - 10ms/epoch - 303us/step\n",
      "Epoch 78/100\n",
      "32/32 - 0s - loss: 0.3911 - 9ms/epoch - 292us/step\n",
      "Epoch 79/100\n",
      "32/32 - 0s - loss: 0.4134 - 10ms/epoch - 311us/step\n",
      "Epoch 80/100\n",
      "32/32 - 0s - loss: 0.4134 - 9ms/epoch - 295us/step\n",
      "Epoch 81/100\n",
      "32/32 - 0s - loss: 0.4034 - 10ms/epoch - 303us/step\n",
      "Epoch 82/100\n",
      "32/32 - 0s - loss: 0.3885 - 10ms/epoch - 306us/step\n",
      "Epoch 83/100\n",
      "32/32 - 0s - loss: 0.3814 - 9ms/epoch - 292us/step\n",
      "Epoch 84/100\n",
      "32/32 - 0s - loss: 0.3931 - 10ms/epoch - 311us/step\n",
      "Epoch 85/100\n",
      "32/32 - 0s - loss: 0.3732 - 10ms/epoch - 300us/step\n",
      "Epoch 86/100\n",
      "32/32 - 0s - loss: 0.4127 - 9ms/epoch - 292us/step\n",
      "Epoch 87/100\n",
      "32/32 - 0s - loss: 0.3852 - 10ms/epoch - 309us/step\n",
      "Epoch 88/100\n",
      "32/32 - 0s - loss: 0.3874 - 9ms/epoch - 295us/step\n",
      "Epoch 89/100\n",
      "32/32 - 0s - loss: 0.3930 - 10ms/epoch - 306us/step\n",
      "Epoch 90/100\n",
      "32/32 - 0s - loss: 0.4023 - 10ms/epoch - 322us/step\n",
      "Epoch 91/100\n",
      "32/32 - 0s - loss: 0.4091 - 9ms/epoch - 294us/step\n",
      "Epoch 92/100\n",
      "32/32 - 0s - loss: 0.4197 - 10ms/epoch - 310us/step\n",
      "Epoch 93/100\n",
      "32/32 - 0s - loss: 0.3657 - 9ms/epoch - 295us/step\n",
      "Epoch 94/100\n",
      "32/32 - 0s - loss: 0.3993 - 10ms/epoch - 308us/step\n",
      "Epoch 95/100\n",
      "32/32 - 0s - loss: 0.3832 - 13ms/epoch - 417us/step\n",
      "Epoch 96/100\n",
      "32/32 - 0s - loss: 0.4445 - 11ms/epoch - 339us/step\n",
      "Epoch 97/100\n",
      "32/32 - 0s - loss: 0.3922 - 12ms/epoch - 365us/step\n",
      "Epoch 98/100\n",
      "32/32 - 0s - loss: 0.3827 - 10ms/epoch - 298us/step\n",
      "Epoch 99/100\n",
      "32/32 - 0s - loss: 0.3886 - 10ms/epoch - 312us/step\n",
      "Epoch 100/100\n",
      "32/32 - 0s - loss: 0.3832 - 9ms/epoch - 290us/step\n"
     ]
    },
    {
     "data": {
      "text/plain": [
       "<keras.callbacks.History at 0x7fcc5815be50>"
      ]
     },
     "execution_count": 12,
     "metadata": {},
     "output_type": "execute_result"
    }
   ],
   "source": [
    "modelo.fit(datos['entradas'], datos['targets'], epochs = 100, verbose = 2)"
   ]
  },
  {
   "cell_type": "code",
   "execution_count": null,
   "metadata": {},
   "outputs": [],
   "source": [
    "modelo.layers[0].get_weights()    # el cero (0) es porque solo tenemos una capa"
   ]
  },
  {
   "cell_type": "code",
   "execution_count": null,
   "metadata": {},
   "outputs": [],
   "source": [
    "pesos = modelo.layers[0].get_weights()[0]\n",
    "pesos"
   ]
  },
  {
   "cell_type": "code",
   "execution_count": null,
   "metadata": {},
   "outputs": [],
   "source": [
    "\n",
    "sesgos = modelo.layers[0].get_weights()[1]\n",
    "sesgos"
   ]
  },
  {
   "cell_type": "code",
   "execution_count": null,
   "metadata": {},
   "outputs": [],
   "source": [
    "modelo.predict_on_batch(datos['entradas']).round(1)[:5, :]"
   ]
  },
  {
   "cell_type": "code",
   "execution_count": null,
   "metadata": {},
   "outputs": [],
   "source": [
    "datos['targets'].round(1)[:5, :]"
   ]
  },
  {
   "cell_type": "code",
   "execution_count": null,
   "metadata": {},
   "outputs": [],
   "source": [
    "plt.plot(np.squeeze(modelo.predict_on_batch(datos['entradas'])), \n",
    "         np.squeeze(datos['targets']))\n",
    "plt.xlabel('predicciones')\n",
    "plt.ylabel('metas')\n",
    "plt.show()"
   ]
  },
  {
   "cell_type": "code",
   "execution_count": null,
   "metadata": {},
   "outputs": [],
   "source": [
    "fig = px.scatter(x = np.squeeze(modelo.predict_on_batch(datos['entradas'])), \n",
    "                 y =  np.squeeze(datos['targets']))\n",
    "\n",
    "fig.update_layout(\n",
    "    title=\"Comparación predicciones vrs metas\",\n",
    "    xaxis_title=\"Predicciones\",\n",
    "    yaxis_title=\"Metas\",\n",
    "    width = 600,\n",
    "    height = 400,)\n",
    "\n",
    "fig.show()"
   ]
  },
  {
   "attachments": {},
   "cell_type": "markdown",
   "metadata": {},
   "source": [
    "1) Cambie el número de observaciones a 100,000. Explique que es lo que ocurre en términos de:\n",
    "1. El tiempo de ejecución para resolver el problemas\n",
    "\n",
    "R// El tiempo de ejecucion paso de --- a ---, basicamente esto se debe a que al aumentar las observaciones  son mas casos a evaluar y por lo tanto mayor el tiempo que toma.\n",
    "\n",
    "2. El resultado final vrs lo encontrado en clase: es igual, o diferente...¿porqué?\n",
    "\n",
    "R// Los resultados pueden ser similares, pero tiene todo el sentdio que no sean exactamente iguales debido a que hay factores importantes que han cambiado como lo puede ser los pesos y por lo tanto sus sesgos.\n",
    "\n",
    "3. Las graficas para representar los datos/resultados\n",
    "\n",
    "R// A mas observaciones las graficas tienen mas datos con los que trabajar lo que se plasma a su vez en poder hacer graficas mas precisas.\n",
    "\n",
    "2) Cambie el número de observaciones a 1,000,000. Explique que es lo que ocurre en términos\n",
    "de:\n",
    "1. El tiempo de ejecución para resolver el problemas\n",
    "\n",
    "R// Al igual que en el caso anterior, el tiempo paso de ser --- a ---, esto clarametne repercutiria directamente en el tiempo de ejecuccion y significativamente, debido a que se han disparado el numero de observaciones de 100,000 a 1,000,000\n",
    "\n",
    "2. El resultado final vrs lo encontrado en clase: es igual, o diferente...¿porqué?\n",
    "\n",
    "R// Los resultados pueden ser similares, pero tiene todo el sentdio que no sean exactamente iguales debido a que hay factores importantes que han cambiado como lo puede ser los pesos y por lo tanto sus sesgos.\n",
    "\n",
    "3. Las graficas para representar los datos/resultados\n",
    "\n",
    "R//\n",
    "\n",
    "3) “Juegue” un poco con el valor de la tasa de aprendizaje, por ejemplo 0.0001, 0.001, 0.1, 1. Para cada uno de estos indique:\n",
    "1. ¿Qué ocurre con el tiempo de ejecución?\n",
    "\n",
    "R//\n",
    "\n",
    "2. ¿Qué ocurre con la minimización de la pérdida?\n",
    "\n",
    "R//\n",
    "\n",
    "3. ¿Qué ocurre con los pesos y los sesgos?\n",
    "\n",
    "R//\n",
    "\n",
    "4. ¿Qué ocurre con las iteraciones?\n",
    "\n",
    "R//\n",
    "\n",
    "5. ¿El problema queda resuelto o no?\n",
    "\n",
    "R//\n",
    "\n",
    "6. ¿Cuál es la apariencia de la última gráfica? ¿Se cumple con la condición de que sea de 45 grados?\n",
    "\n",
    "R//\n",
    "\n",
    "4) Cambie la función de pérdida “L2-norm” a la misma pero sin dividir por 2. Explique lo que ocurre en términos de:\n",
    "1. El tiempo que se tarda el algoritmo en terminar, comparado a lo que vimos en clase\n",
    "\n",
    "R//\n",
    "\n",
    "2. Si la pérdida se minimiza igual que lo que vimos en clase\n",
    "\n",
    "R//\n",
    "\n",
    "3. Si los pesos y sesgos son parecidos a los vistos en clase\n",
    "\n",
    "R//\n",
    "\n",
    "4. Si el problema se resuelve como ocurrió en clase\n",
    "\n",
    "R//\n",
    "\n",
    "5. Si se obtiene un mejor resultado al hacer más iteraciones\n",
    "\n",
    "R//\n",
    "\n",
    "5) Cambie la función de pérdida de la “L2-norm” a la “L1-norm”. Explique lo que ocurre\n",
    "en términos de:\n",
    "1. El tiempo que se tarda el algoritmo en terminar, comparado a lo que vimos en clase\n",
    "\n",
    "R//\n"
   ]
  }
 ],
 "metadata": {
  "kernelspec": {
   "display_name": "Python 3 (ipykernel)",
   "language": "python",
   "name": "python3"
  },
  "language_info": {
   "codemirror_mode": {
    "name": "ipython",
    "version": 3
   },
   "file_extension": ".py",
   "mimetype": "text/x-python",
   "name": "python",
   "nbconvert_exporter": "python",
   "pygments_lexer": "ipython3",
   "version": "3.9.13"
  }
 },
 "nbformat": 4,
 "nbformat_minor": 4
}
